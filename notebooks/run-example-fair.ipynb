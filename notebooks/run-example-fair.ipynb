{
 "cells": [
  {
   "cell_type": "code",
   "execution_count": null,
   "id": "acaff9ea",
   "metadata": {},
   "outputs": [],
   "source": [
    "import logging\n",
    "import os.path\n",
    "import pooch\n",
    "\n",
    "import matplotlib.pyplot as plt\n",
    "import pyam\n",
    "\n",
    "from climate_assessment.cli import (\n",
    "    _get_key_string_and_log_outdir,\n",
    "    _harmonize_and_infill,\n",
    "    _load_emissions_convert_to_basic,\n",
    "    _setup_logging,\n",
    ")\n",
    "from climate_assessment.climate import climate_assessment\n",
    "from climate_assessment.postprocess import do_postprocess"
   ]
  },
  {
   "cell_type": "code",
   "execution_count": null,
   "id": "59eecbfd",
   "metadata": {},
   "outputs": [],
   "source": [
    "LOGGER = logging.getLogger(\"pipeline\")\n",
    "_setup_logging(LOGGER)"
   ]
  },
  {
   "cell_type": "markdown",
   "id": "a596e20e",
   "metadata": {},
   "source": [
    "## Configuration of input data"
   ]
  },
  {
   "cell_type": "markdown",
   "id": "2f8c995d",
   "metadata": {},
   "source": [
    "### Climate emulator (JSON) configuration data download (FaIR)"
   ]
  },
  {
   "cell_type": "markdown",
   "id": "2345c0e4",
   "metadata": {},
   "source": [
    "Our FaIR setup uses two files, because it reduces the size of the configuration input compared to using only one file.\n",
    "\n",
    "You can download these files manually from \"https://zenodo.org/record/6601980\", or you can download it interactively using `pooch`, which we'll showcase here. \n",
    "\n",
    "1. First, we specify where we want to put the downloaded cached data (`fair_config_data_dir`)\n",
    "\n",
    "2. Then, we specify what config files we want, and download them using `pooch.retrieve`"
   ]
  },
  {
   "cell_type": "code",
   "execution_count": null,
   "id": "1fc0dc02",
   "metadata": {},
   "outputs": [],
   "source": [
    "fair_config_data_dir = os.path.join(\"..\", \"data\", \"fair\")"
   ]
  },
  {
   "cell_type": "code",
   "execution_count": null,
   "id": "80d936b5",
   "metadata": {},
   "outputs": [],
   "source": [
    "fair_slim_filename = \"fair-1.6.2-wg3-params-slim.json\"\n",
    "fair_common_filename = \"fair-1.6.2-wg3-params-common.json\""
   ]
  },
  {
   "cell_type": "markdown",
   "id": "922e25a2",
   "metadata": {},
   "source": [
    "**N.B.** you only need to run the two cells below this the first time, after that you can also skip and run without internet connection."
   ]
  },
  {
   "cell_type": "code",
   "execution_count": null,
   "id": "f0653215",
   "metadata": {},
   "outputs": [],
   "source": [
    "fair_slim_url = \"https://zenodo.org/record/6601980/files/fair-1.6.2-wg3-params-slim.json?download=1\"\n",
    "fair_slim_hash = \"c071ca619c0ae37a6abdeb79c0cece7b\"\n",
    "    \n",
    "pooch.retrieve(\n",
    "            url=fair_slim_url,\n",
    "            known_hash=f\"md5:{fair_slim_hash}\",\n",
    "            path=fair_config_data_dir,\n",
    "            fname=fair_slim_filename,\n",
    "        )"
   ]
  },
  {
   "cell_type": "code",
   "execution_count": null,
   "id": "8d9f5186",
   "metadata": {},
   "outputs": [],
   "source": [
    "fair_common_url = \"https://zenodo.org/record/6601980/files/fair-1.6.2-wg3-params-common.json?download=1\"\n",
    "fair_common_hash = \"42ccaffcd3dea88edfca77da0cd5789b\"\n",
    "\n",
    "pooch.retrieve(\n",
    "            url=fair_common_url,\n",
    "            known_hash=f\"md5:{fair_common_hash}\",\n",
    "            path=fair_config_data_dir,\n",
    "            fname=fair_common_filename,\n",
    "        )"
   ]
  },
  {
   "cell_type": "markdown",
   "id": "a22bdbac",
   "metadata": {},
   "source": [
    "### Set general input arguments and options to the climate assessment workflow"
   ]
  },
  {
   "cell_type": "code",
   "execution_count": null,
   "id": "1079bd63",
   "metadata": {},
   "outputs": [],
   "source": [
    "model = \"fair\"\n",
    "model_version = \"1.6.2\"\n",
    "fair_extra_config = os.path.join(fair_config_data_dir, fair_common_filename)\n",
    "probabilistic_file = os.path.join(fair_config_data_dir, fair_slim_filename)\n",
    "num_cfgs = 10  # only 10 configurations (out of 2237 for FaIR) for this example\n",
    "test_run = True  # this option must be True because we don't run with all 2237 configurations and thus cannot be certain the output temperature data will be correct\n",
    "scenario_batch_size = 20 # how many scenarios do you want to run in one go?\n",
    "prefix = \"AR6 climate diagnostics\" # string prefix \n",
    "inputcheck = True # make sure the input data is in the right format\n",
    "\n",
    "os.environ[\"ROOT_DIR\"] = os.path.join(\"..\")  # set root directory\n",
    "outdir = \"output\" # what folder will the climate output be found after the run?\n"
   ]
  },
  {
   "cell_type": "markdown",
   "id": "cbbed3b6",
   "metadata": {},
   "source": [
    "### Choose input emissions pathway file"
   ]
  },
  {
   "cell_type": "code",
   "execution_count": null,
   "id": "41d0741c",
   "metadata": {},
   "outputs": [],
   "source": [
    "EMISSIONS_DATA_DIR = os.path.join(\n",
    "    \"..\", \"tests\", \"test-data\"\n",
    ") \n",
    "EMISSIONS_INPUT_FILE = \"ar6_IPs_emissions.csv\"\n",
    "input_emissions_file = os.path.join(\n",
    "    EMISSIONS_DATA_DIR, EMISSIONS_INPUT_FILE\n",
    ")"
   ]
  },
  {
   "cell_type": "markdown",
   "id": "f92038e8",
   "metadata": {},
   "source": [
    "### Choose infiller database file"
   ]
  },
  {
   "cell_type": "code",
   "execution_count": null,
   "id": "6b27e25d",
   "metadata": {},
   "outputs": [],
   "source": [
    "infilling_database = os.path.join(\n",
    "    \"..\", \"src\", \"climate_assessment\", \"infilling\", \"cmip6-ssps-workflow-emissions.csv\"\n",
    ")"
   ]
  },
  {
   "cell_type": "markdown",
   "id": "0fc44196",
   "metadata": {},
   "source": [
    "> **_NOTE:_**  The cell above selects the \"cmip6-ssps\" infiller database, which is directly provided with the climate-assessment package. However, to reproduce the AR6 temperature projections and for most applications, using the AR6 infiller database is strongly recommended (see documentation under \"Installation\", section \"Infiller database\"). "
   ]
  },
  {
   "cell_type": "code",
   "execution_count": null,
   "id": "029018d1",
   "metadata": {},
   "outputs": [],
   "source": [
    "key_string = _get_key_string_and_log_outdir(\n",
    "    os.path.join(EMISSIONS_DATA_DIR, EMISSIONS_INPUT_FILE),\n",
    "    outdir,\n",
    "    LOGGER,\n",
    ")"
   ]
  },
  {
   "cell_type": "markdown",
   "id": "f7e8686c",
   "metadata": {},
   "source": [
    "## Run the climate assessment workflow"
   ]
  },
  {
   "cell_type": "markdown",
   "id": "7af6bebb",
   "metadata": {},
   "source": [
    "### Load input emissions file"
   ]
  },
  {
   "cell_type": "code",
   "execution_count": null,
   "id": "ca1c5908",
   "metadata": {},
   "outputs": [],
   "source": [
    "input_df = _load_emissions_convert_to_basic(input_emissions_file, LOGGER)"
   ]
  },
  {
   "cell_type": "code",
   "execution_count": null,
   "id": "327f1ac4",
   "metadata": {},
   "outputs": [],
   "source": [
    "input_df.timeseries()"
   ]
  },
  {
   "cell_type": "markdown",
   "id": "80dbb908",
   "metadata": {},
   "source": [
    "### Harmonize and infill the scenarios"
   ]
  },
  {
   "cell_type": "markdown",
   "id": "b1302596",
   "metadata": {},
   "source": [
    "*N.B. watch out, the log with information and some warnings will be quite long - but that is nothing to worry about!*"
   ]
  },
  {
   "cell_type": "code",
   "execution_count": null,
   "id": "f965d0af",
   "metadata": {},
   "outputs": [],
   "source": [
    "_harmonize_and_infill(\n",
    "    input_df,\n",
    "    inputcheck,\n",
    "    key_string,\n",
    "    outdir,\n",
    "    infilling_database,\n",
    "    harmonize=True,\n",
    "    prefix=prefix,\n",
    "    harmonization_instance=\"ar6\",\n",
    ")"
   ]
  },
  {
   "cell_type": "markdown",
   "id": "1f3c5bfb",
   "metadata": {},
   "source": [
    "### Load back in emissions data after infilling was successful"
   ]
  },
  {
   "cell_type": "code",
   "execution_count": null,
   "id": "51082a8f",
   "metadata": {},
   "outputs": [],
   "source": [
    "# read in infilled database\n",
    "infilled_emissions = os.path.join(\n",
    "    outdir, \"{}_harmonized_infilled.csv\".format(key_string)\n",
    ")\n",
    "LOGGER.info(\"Reading in infilled scenarios from: %s\", infilled_emissions)\n",
    "df_infilled = pyam.IamDataFrame(infilled_emissions)"
   ]
  },
  {
   "cell_type": "code",
   "execution_count": null,
   "id": "ed1e9638",
   "metadata": {},
   "outputs": [],
   "source": [
    "df_infilled.timeseries()"
   ]
  },
  {
   "cell_type": "markdown",
   "id": "bf3ea7a0",
   "metadata": {},
   "source": [
    "### Run climate emulator FaIR"
   ]
  },
  {
   "cell_type": "markdown",
   "id": "8f574b5d",
   "metadata": {},
   "source": [
    "*N.B. prepare for another info log*"
   ]
  },
  {
   "cell_type": "code",
   "execution_count": null,
   "id": "87eee27e",
   "metadata": {},
   "outputs": [],
   "source": [
    "df_climate = climate_assessment(\n",
    "    df_infilled,\n",
    "    key_string,\n",
    "    outdir,\n",
    "    fair_extra_config=fair_extra_config,\n",
    "    model=model,\n",
    "    model_version=model_version,\n",
    "    probabilistic_file=probabilistic_file,\n",
    "    num_cfgs=num_cfgs,\n",
    "    historical_warming=0.85,\n",
    "    historical_warming_reference_period=\"1850-1900\",\n",
    "    historical_warming_evaluation_period=\"1995-2014\",\n",
    "    test_run=test_run,\n",
    "    scenario_batch_size=scenario_batch_size,\n",
    "    save_raw_output=False,\n",
    "    co2_and_non_co2_warming=False,\n",
    "    prefix=prefix,\n",
    ")"
   ]
  },
  {
   "cell_type": "code",
   "execution_count": null,
   "id": "7e76657b",
   "metadata": {},
   "outputs": [],
   "source": [
    "df_climate.timeseries()"
   ]
  },
  {
   "cell_type": "markdown",
   "id": "b0c2c685",
   "metadata": {},
   "source": [
    "### Combine output and do post-processing"
   ]
  },
  {
   "cell_type": "markdown",
   "id": "2afcce04",
   "metadata": {},
   "source": [
    "*N.B. prepare yourself for a very long log and a bit of scrolling this time, there will be a lot of (duplicate) information logged for each climate run.*"
   ]
  },
  {
   "cell_type": "code",
   "execution_count": null,
   "id": "415357d0",
   "metadata": {},
   "outputs": [],
   "source": [
    "results = pyam.concat([df_infilled, df_climate])\n",
    "output = pyam.concat(\n",
    "    [input_df.filter(variable=results.variable, keep=False), results]\n",
    ")\n",
    "do_postprocess(\n",
    "    output,\n",
    "    outdir=outdir,\n",
    "    key_string=key_string,\n",
    "    categorisation=True,\n",
    "    reporting_completeness_categorisation=False,\n",
    "    prefix=prefix,\n",
    "    gwp=True,\n",
    "    model_version=model_version,\n",
    "    model=model,\n",
    ")"
   ]
  },
  {
   "cell_type": "markdown",
   "id": "35346bc7",
   "metadata": {},
   "source": [
    "### Visualise results"
   ]
  },
  {
   "cell_type": "code",
   "execution_count": null,
   "id": "c381213b",
   "metadata": {},
   "outputs": [],
   "source": [
    "output.filter(variable=\"*|Surface Temperature (GSAT)|*|50.0th Percentile\").plot(color=\"scenario\", fill_between=True, final_ranges=dict(linewidth=5))\n",
    "plt.tight_layout()\n",
    "plt.title(\"Global warming above the 1850-1900 mean\")\n",
    "plt.show()"
   ]
  },
  {
   "cell_type": "markdown",
   "id": "3b9b79e7",
   "metadata": {},
   "source": [
    "## Conclusion\n",
    "That's it! You just ran a a full climate assessment workflow going from emissions to temperature (and more) using the functionality from the climate-assessment package, and then visualised the results. \n",
    "\n",
    "Naturally, similar workflows can be constructed using CICERO-SCM (on Linux) and MAGICC (on Windows and Linux)!\n",
    "\n",
    "It is also possible to run from the command line, and build more elaborate workflows. For that, please see the extended documentation."
   ]
  }
 ],
 "metadata": {
  "kernelspec": {
   "display_name": "ar6_env",
   "language": "python",
   "name": "ar6_env"
  },
  "language_info": {
   "codemirror_mode": {
    "name": "ipython",
    "version": 3
   },
   "file_extension": ".py",
   "mimetype": "text/x-python",
   "name": "python",
   "nbconvert_exporter": "python",
   "pygments_lexer": "ipython3",
   "version": "3.7.11"
  }
 },
 "nbformat": 4,
 "nbformat_minor": 5
}
